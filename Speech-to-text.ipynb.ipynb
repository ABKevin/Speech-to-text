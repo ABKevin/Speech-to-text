{
  "nbformat": 4,
  "nbformat_minor": 0,
  "metadata": {
    "colab": {
      "provenance": []
    },
    "kernelspec": {
      "name": "python3",
      "display_name": "Python 3"
    },
    "language_info": {
      "name": "python"
    }
  },
  "cells": [
    {
      "cell_type": "code",
      "execution_count": 1,
      "metadata": {
        "colab": {
          "base_uri": "https://localhost:8080/",
          "height": 0
        },
        "id": "9127cU1exdzH",
        "outputId": "bc78f733-0805-47aa-98cc-34b8c92e4a55"
      },
      "outputs": [
        {
          "output_type": "stream",
          "name": "stdout",
          "text": [
            "Looking in indexes: https://pypi.org/simple, https://us-python.pkg.dev/colab-wheels/public/simple/\n",
            "Requirement already satisfied: google-cloud-storage in /usr/local/lib/python3.8/dist-packages (2.7.0)\n",
            "Requirement already satisfied: google-cloud-core<3.0dev,>=2.3.0 in /usr/local/lib/python3.8/dist-packages (from google-cloud-storage) (2.3.2)\n",
            "Requirement already satisfied: google-auth<3.0dev,>=1.25.0 in /usr/local/lib/python3.8/dist-packages (from google-cloud-storage) (2.16.0)\n",
            "Requirement already satisfied: google-api-core!=2.0.*,!=2.1.*,!=2.2.*,!=2.3.0,<3.0.0dev,>=1.31.5 in /usr/local/lib/python3.8/dist-packages (from google-cloud-storage) (2.11.0)\n",
            "Requirement already satisfied: google-resumable-media>=2.3.2 in /usr/local/lib/python3.8/dist-packages (from google-cloud-storage) (2.4.1)\n",
            "Requirement already satisfied: requests<3.0.0dev,>=2.18.0 in /usr/local/lib/python3.8/dist-packages (from google-cloud-storage) (2.25.1)\n",
            "Requirement already satisfied: googleapis-common-protos<2.0dev,>=1.56.2 in /usr/local/lib/python3.8/dist-packages (from google-api-core!=2.0.*,!=2.1.*,!=2.2.*,!=2.3.0,<3.0.0dev,>=1.31.5->google-cloud-storage) (1.58.0)\n",
            "Requirement already satisfied: protobuf!=3.20.0,!=3.20.1,!=4.21.0,!=4.21.1,!=4.21.2,!=4.21.3,!=4.21.4,!=4.21.5,<5.0.0dev,>=3.19.5 in /usr/local/lib/python3.8/dist-packages (from google-api-core!=2.0.*,!=2.1.*,!=2.2.*,!=2.3.0,<3.0.0dev,>=1.31.5->google-cloud-storage) (3.19.6)\n",
            "Requirement already satisfied: pyasn1-modules>=0.2.1 in /usr/local/lib/python3.8/dist-packages (from google-auth<3.0dev,>=1.25.0->google-cloud-storage) (0.2.8)\n",
            "Requirement already satisfied: cachetools<6.0,>=2.0.0 in /usr/local/lib/python3.8/dist-packages (from google-auth<3.0dev,>=1.25.0->google-cloud-storage) (5.3.0)\n",
            "Requirement already satisfied: rsa<5,>=3.1.4 in /usr/local/lib/python3.8/dist-packages (from google-auth<3.0dev,>=1.25.0->google-cloud-storage) (4.9)\n",
            "Requirement already satisfied: six>=1.9.0 in /usr/local/lib/python3.8/dist-packages (from google-auth<3.0dev,>=1.25.0->google-cloud-storage) (1.15.0)\n",
            "Requirement already satisfied: google-crc32c<2.0dev,>=1.0 in /usr/local/lib/python3.8/dist-packages (from google-resumable-media>=2.3.2->google-cloud-storage) (1.5.0)\n",
            "Requirement already satisfied: urllib3<1.27,>=1.21.1 in /usr/local/lib/python3.8/dist-packages (from requests<3.0.0dev,>=2.18.0->google-cloud-storage) (1.24.3)\n",
            "Requirement already satisfied: certifi>=2017.4.17 in /usr/local/lib/python3.8/dist-packages (from requests<3.0.0dev,>=2.18.0->google-cloud-storage) (2022.12.7)\n",
            "Requirement already satisfied: chardet<5,>=3.0.2 in /usr/local/lib/python3.8/dist-packages (from requests<3.0.0dev,>=2.18.0->google-cloud-storage) (4.0.0)\n",
            "Requirement already satisfied: idna<3,>=2.5 in /usr/local/lib/python3.8/dist-packages (from requests<3.0.0dev,>=2.18.0->google-cloud-storage) (2.10)\n",
            "Requirement already satisfied: pyasn1<0.5.0,>=0.4.6 in /usr/local/lib/python3.8/dist-packages (from pyasn1-modules>=0.2.1->google-auth<3.0dev,>=1.25.0->google-cloud-storage) (0.4.8)\n"
          ]
        }
      ],
      "source": [
        "pip install --upgrade google-cloud-storage"
      ]
    },
    {
      "cell_type": "code",
      "source": [
        "pip install --upgrade google-cloud-speech"
      ],
      "metadata": {
        "colab": {
          "base_uri": "https://localhost:8080/",
          "height": 0
        },
        "id": "ORNlpcD45WOd",
        "outputId": "11fa54ce-ad31-4832-abcd-ca279cbb9afa"
      },
      "execution_count": 2,
      "outputs": [
        {
          "output_type": "stream",
          "name": "stdout",
          "text": [
            "Looking in indexes: https://pypi.org/simple, https://us-python.pkg.dev/colab-wheels/public/simple/\n",
            "Requirement already satisfied: google-cloud-speech in /usr/local/lib/python3.8/dist-packages (2.17.3)\n",
            "Requirement already satisfied: google-api-core[grpc]!=2.0.*,!=2.1.*,!=2.10.*,!=2.2.*,!=2.3.*,!=2.4.*,!=2.5.*,!=2.6.*,!=2.7.*,!=2.8.*,!=2.9.*,<3.0.0dev,>=1.34.0 in /usr/local/lib/python3.8/dist-packages (from google-cloud-speech) (2.11.0)\n",
            "Requirement already satisfied: protobuf!=3.20.0,!=3.20.1,!=4.21.0,!=4.21.1,!=4.21.2,!=4.21.3,!=4.21.4,!=4.21.5,<5.0.0dev,>=3.19.5 in /usr/local/lib/python3.8/dist-packages (from google-cloud-speech) (3.19.6)\n",
            "Requirement already satisfied: proto-plus<2.0.0dev,>=1.22.0 in /usr/local/lib/python3.8/dist-packages (from google-cloud-speech) (1.22.2)\n",
            "Requirement already satisfied: googleapis-common-protos<2.0dev,>=1.56.2 in /usr/local/lib/python3.8/dist-packages (from google-api-core[grpc]!=2.0.*,!=2.1.*,!=2.10.*,!=2.2.*,!=2.3.*,!=2.4.*,!=2.5.*,!=2.6.*,!=2.7.*,!=2.8.*,!=2.9.*,<3.0.0dev,>=1.34.0->google-cloud-speech) (1.58.0)\n",
            "Requirement already satisfied: requests<3.0.0dev,>=2.18.0 in /usr/local/lib/python3.8/dist-packages (from google-api-core[grpc]!=2.0.*,!=2.1.*,!=2.10.*,!=2.2.*,!=2.3.*,!=2.4.*,!=2.5.*,!=2.6.*,!=2.7.*,!=2.8.*,!=2.9.*,<3.0.0dev,>=1.34.0->google-cloud-speech) (2.25.1)\n",
            "Requirement already satisfied: google-auth<3.0dev,>=2.14.1 in /usr/local/lib/python3.8/dist-packages (from google-api-core[grpc]!=2.0.*,!=2.1.*,!=2.10.*,!=2.2.*,!=2.3.*,!=2.4.*,!=2.5.*,!=2.6.*,!=2.7.*,!=2.8.*,!=2.9.*,<3.0.0dev,>=1.34.0->google-cloud-speech) (2.16.0)\n",
            "Requirement already satisfied: grpcio<2.0dev,>=1.33.2 in /usr/local/lib/python3.8/dist-packages (from google-api-core[grpc]!=2.0.*,!=2.1.*,!=2.10.*,!=2.2.*,!=2.3.*,!=2.4.*,!=2.5.*,!=2.6.*,!=2.7.*,!=2.8.*,!=2.9.*,<3.0.0dev,>=1.34.0->google-cloud-speech) (1.51.1)\n",
            "Requirement already satisfied: grpcio-status<2.0dev,>=1.33.2 in /usr/local/lib/python3.8/dist-packages (from google-api-core[grpc]!=2.0.*,!=2.1.*,!=2.10.*,!=2.2.*,!=2.3.*,!=2.4.*,!=2.5.*,!=2.6.*,!=2.7.*,!=2.8.*,!=2.9.*,<3.0.0dev,>=1.34.0->google-cloud-speech) (1.48.2)\n",
            "Requirement already satisfied: cachetools<6.0,>=2.0.0 in /usr/local/lib/python3.8/dist-packages (from google-auth<3.0dev,>=2.14.1->google-api-core[grpc]!=2.0.*,!=2.1.*,!=2.10.*,!=2.2.*,!=2.3.*,!=2.4.*,!=2.5.*,!=2.6.*,!=2.7.*,!=2.8.*,!=2.9.*,<3.0.0dev,>=1.34.0->google-cloud-speech) (5.3.0)\n",
            "Requirement already satisfied: six>=1.9.0 in /usr/local/lib/python3.8/dist-packages (from google-auth<3.0dev,>=2.14.1->google-api-core[grpc]!=2.0.*,!=2.1.*,!=2.10.*,!=2.2.*,!=2.3.*,!=2.4.*,!=2.5.*,!=2.6.*,!=2.7.*,!=2.8.*,!=2.9.*,<3.0.0dev,>=1.34.0->google-cloud-speech) (1.15.0)\n",
            "Requirement already satisfied: rsa<5,>=3.1.4 in /usr/local/lib/python3.8/dist-packages (from google-auth<3.0dev,>=2.14.1->google-api-core[grpc]!=2.0.*,!=2.1.*,!=2.10.*,!=2.2.*,!=2.3.*,!=2.4.*,!=2.5.*,!=2.6.*,!=2.7.*,!=2.8.*,!=2.9.*,<3.0.0dev,>=1.34.0->google-cloud-speech) (4.9)\n",
            "Requirement already satisfied: pyasn1-modules>=0.2.1 in /usr/local/lib/python3.8/dist-packages (from google-auth<3.0dev,>=2.14.1->google-api-core[grpc]!=2.0.*,!=2.1.*,!=2.10.*,!=2.2.*,!=2.3.*,!=2.4.*,!=2.5.*,!=2.6.*,!=2.7.*,!=2.8.*,!=2.9.*,<3.0.0dev,>=1.34.0->google-cloud-speech) (0.2.8)\n",
            "Requirement already satisfied: idna<3,>=2.5 in /usr/local/lib/python3.8/dist-packages (from requests<3.0.0dev,>=2.18.0->google-api-core[grpc]!=2.0.*,!=2.1.*,!=2.10.*,!=2.2.*,!=2.3.*,!=2.4.*,!=2.5.*,!=2.6.*,!=2.7.*,!=2.8.*,!=2.9.*,<3.0.0dev,>=1.34.0->google-cloud-speech) (2.10)\n",
            "Requirement already satisfied: chardet<5,>=3.0.2 in /usr/local/lib/python3.8/dist-packages (from requests<3.0.0dev,>=2.18.0->google-api-core[grpc]!=2.0.*,!=2.1.*,!=2.10.*,!=2.2.*,!=2.3.*,!=2.4.*,!=2.5.*,!=2.6.*,!=2.7.*,!=2.8.*,!=2.9.*,<3.0.0dev,>=1.34.0->google-cloud-speech) (4.0.0)\n",
            "Requirement already satisfied: urllib3<1.27,>=1.21.1 in /usr/local/lib/python3.8/dist-packages (from requests<3.0.0dev,>=2.18.0->google-api-core[grpc]!=2.0.*,!=2.1.*,!=2.10.*,!=2.2.*,!=2.3.*,!=2.4.*,!=2.5.*,!=2.6.*,!=2.7.*,!=2.8.*,!=2.9.*,<3.0.0dev,>=1.34.0->google-cloud-speech) (1.24.3)\n",
            "Requirement already satisfied: certifi>=2017.4.17 in /usr/local/lib/python3.8/dist-packages (from requests<3.0.0dev,>=2.18.0->google-api-core[grpc]!=2.0.*,!=2.1.*,!=2.10.*,!=2.2.*,!=2.3.*,!=2.4.*,!=2.5.*,!=2.6.*,!=2.7.*,!=2.8.*,!=2.9.*,<3.0.0dev,>=1.34.0->google-cloud-speech) (2022.12.7)\n",
            "Requirement already satisfied: pyasn1<0.5.0,>=0.4.6 in /usr/local/lib/python3.8/dist-packages (from pyasn1-modules>=0.2.1->google-auth<3.0dev,>=2.14.1->google-api-core[grpc]!=2.0.*,!=2.1.*,!=2.10.*,!=2.2.*,!=2.3.*,!=2.4.*,!=2.5.*,!=2.6.*,!=2.7.*,!=2.8.*,!=2.9.*,<3.0.0dev,>=1.34.0->google-cloud-speech) (0.4.8)\n"
          ]
        }
      ]
    },
    {
      "cell_type": "code",
      "source": [
        "pip install --upgrade firebase-admin"
      ],
      "metadata": {
        "colab": {
          "base_uri": "https://localhost:8080/",
          "height": 0
        },
        "id": "irchBYRZ0qe_",
        "outputId": "31affc88-dc6e-468c-bd61-0e3d8df6abe2"
      },
      "execution_count": 3,
      "outputs": [
        {
          "output_type": "stream",
          "name": "stdout",
          "text": [
            "Looking in indexes: https://pypi.org/simple, https://us-python.pkg.dev/colab-wheels/public/simple/\n",
            "Requirement already satisfied: firebase-admin in /usr/local/lib/python3.8/dist-packages (6.1.0)\n",
            "Requirement already satisfied: pyjwt[crypto]>=2.5.0 in /usr/local/lib/python3.8/dist-packages (from firebase-admin) (2.6.0)\n",
            "Requirement already satisfied: google-cloud-storage>=1.37.1 in /usr/local/lib/python3.8/dist-packages (from firebase-admin) (2.7.0)\n",
            "Requirement already satisfied: google-api-core[grpc]<3.0.0dev,>=1.22.1 in /usr/local/lib/python3.8/dist-packages (from firebase-admin) (2.11.0)\n",
            "Requirement already satisfied: google-api-python-client>=1.7.8 in /usr/local/lib/python3.8/dist-packages (from firebase-admin) (2.70.0)\n",
            "Requirement already satisfied: google-cloud-firestore>=2.9.1 in /usr/local/lib/python3.8/dist-packages (from firebase-admin) (2.9.1)\n",
            "Requirement already satisfied: cachecontrol>=0.12.6 in /usr/local/lib/python3.8/dist-packages (from firebase-admin) (0.12.11)\n",
            "Requirement already satisfied: requests in /usr/local/lib/python3.8/dist-packages (from cachecontrol>=0.12.6->firebase-admin) (2.25.1)\n",
            "Requirement already satisfied: msgpack>=0.5.2 in /usr/local/lib/python3.8/dist-packages (from cachecontrol>=0.12.6->firebase-admin) (1.0.4)\n",
            "Requirement already satisfied: protobuf!=3.20.0,!=3.20.1,!=4.21.0,!=4.21.1,!=4.21.2,!=4.21.3,!=4.21.4,!=4.21.5,<5.0.0dev,>=3.19.5 in /usr/local/lib/python3.8/dist-packages (from google-api-core[grpc]<3.0.0dev,>=1.22.1->firebase-admin) (3.19.6)\n",
            "Requirement already satisfied: googleapis-common-protos<2.0dev,>=1.56.2 in /usr/local/lib/python3.8/dist-packages (from google-api-core[grpc]<3.0.0dev,>=1.22.1->firebase-admin) (1.58.0)\n",
            "Requirement already satisfied: google-auth<3.0dev,>=2.14.1 in /usr/local/lib/python3.8/dist-packages (from google-api-core[grpc]<3.0.0dev,>=1.22.1->firebase-admin) (2.16.0)\n",
            "Requirement already satisfied: grpcio<2.0dev,>=1.33.2 in /usr/local/lib/python3.8/dist-packages (from google-api-core[grpc]<3.0.0dev,>=1.22.1->firebase-admin) (1.51.1)\n",
            "Requirement already satisfied: grpcio-status<2.0dev,>=1.33.2 in /usr/local/lib/python3.8/dist-packages (from google-api-core[grpc]<3.0.0dev,>=1.22.1->firebase-admin) (1.48.2)\n",
            "Requirement already satisfied: uritemplate<5,>=3.0.1 in /usr/local/lib/python3.8/dist-packages (from google-api-python-client>=1.7.8->firebase-admin) (4.1.1)\n",
            "Requirement already satisfied: httplib2<1dev,>=0.15.0 in /usr/local/lib/python3.8/dist-packages (from google-api-python-client>=1.7.8->firebase-admin) (0.17.4)\n",
            "Requirement already satisfied: google-auth-httplib2>=0.1.0 in /usr/local/lib/python3.8/dist-packages (from google-api-python-client>=1.7.8->firebase-admin) (0.1.0)\n",
            "Requirement already satisfied: proto-plus<2.0.0dev,>=1.22.0 in /usr/local/lib/python3.8/dist-packages (from google-cloud-firestore>=2.9.1->firebase-admin) (1.22.2)\n",
            "Requirement already satisfied: google-cloud-core<3.0.0dev,>=1.4.1 in /usr/local/lib/python3.8/dist-packages (from google-cloud-firestore>=2.9.1->firebase-admin) (2.3.2)\n",
            "Requirement already satisfied: google-resumable-media>=2.3.2 in /usr/local/lib/python3.8/dist-packages (from google-cloud-storage>=1.37.1->firebase-admin) (2.4.1)\n",
            "Requirement already satisfied: cryptography>=3.4.0 in /usr/local/lib/python3.8/dist-packages (from pyjwt[crypto]>=2.5.0->firebase-admin) (39.0.1)\n",
            "Requirement already satisfied: cffi>=1.12 in /usr/local/lib/python3.8/dist-packages (from cryptography>=3.4.0->pyjwt[crypto]>=2.5.0->firebase-admin) (1.15.1)\n",
            "Requirement already satisfied: cachetools<6.0,>=2.0.0 in /usr/local/lib/python3.8/dist-packages (from google-auth<3.0dev,>=2.14.1->google-api-core[grpc]<3.0.0dev,>=1.22.1->firebase-admin) (5.3.0)\n",
            "Requirement already satisfied: six>=1.9.0 in /usr/local/lib/python3.8/dist-packages (from google-auth<3.0dev,>=2.14.1->google-api-core[grpc]<3.0.0dev,>=1.22.1->firebase-admin) (1.15.0)\n",
            "Requirement already satisfied: rsa<5,>=3.1.4 in /usr/local/lib/python3.8/dist-packages (from google-auth<3.0dev,>=2.14.1->google-api-core[grpc]<3.0.0dev,>=1.22.1->firebase-admin) (4.9)\n",
            "Requirement already satisfied: pyasn1-modules>=0.2.1 in /usr/local/lib/python3.8/dist-packages (from google-auth<3.0dev,>=2.14.1->google-api-core[grpc]<3.0.0dev,>=1.22.1->firebase-admin) (0.2.8)\n",
            "Requirement already satisfied: google-crc32c<2.0dev,>=1.0 in /usr/local/lib/python3.8/dist-packages (from google-resumable-media>=2.3.2->google-cloud-storage>=1.37.1->firebase-admin) (1.5.0)\n",
            "Requirement already satisfied: urllib3<1.27,>=1.21.1 in /usr/local/lib/python3.8/dist-packages (from requests->cachecontrol>=0.12.6->firebase-admin) (1.24.3)\n",
            "Requirement already satisfied: idna<3,>=2.5 in /usr/local/lib/python3.8/dist-packages (from requests->cachecontrol>=0.12.6->firebase-admin) (2.10)\n",
            "Requirement already satisfied: chardet<5,>=3.0.2 in /usr/local/lib/python3.8/dist-packages (from requests->cachecontrol>=0.12.6->firebase-admin) (4.0.0)\n",
            "Requirement already satisfied: certifi>=2017.4.17 in /usr/local/lib/python3.8/dist-packages (from requests->cachecontrol>=0.12.6->firebase-admin) (2022.12.7)\n",
            "Requirement already satisfied: pycparser in /usr/local/lib/python3.8/dist-packages (from cffi>=1.12->cryptography>=3.4.0->pyjwt[crypto]>=2.5.0->firebase-admin) (2.21)\n",
            "Requirement already satisfied: pyasn1<0.5.0,>=0.4.6 in /usr/local/lib/python3.8/dist-packages (from pyasn1-modules>=0.2.1->google-auth<3.0dev,>=2.14.1->google-api-core[grpc]<3.0.0dev,>=1.22.1->firebase-admin) (0.4.8)\n"
          ]
        }
      ]
    },
    {
      "cell_type": "code",
      "source": [
        "import os\n",
        "from google.cloud import storage\n",
        "from google.cloud import speech\n",
        "import pprint\n",
        "from textblob.sentiments import NaiveBayesAnalyzer\n",
        "import textblob\n",
        "from textblob import TextBlob\n",
        "import matplotlib.pyplot as plt\n",
        "import numpy as np\n",
        "import firebase_admin\n",
        "from firebase_admin import credentials\n",
        "from firebase_admin import firestore"
      ],
      "metadata": {
        "id": "RHZ5J6-yy4TM"
      },
      "execution_count": 4,
      "outputs": []
    },
    {
      "cell_type": "code",
      "source": [
        "#Constants\n",
        "BUCKET_NAME = \"speech_to_text_admn5015\""
      ],
      "metadata": {
        "id": "JYIWL9Hc6ICl"
      },
      "execution_count": 5,
      "outputs": []
    },
    {
      "cell_type": "code",
      "source": [
        "#Create Environment Variable\n",
        "os.environ[\"GOOGLE_APPLICATION_CREDENTIALS\"] = \"/content/essential-rider-375921-74f005818646.json\"\n",
        "cred = credentials.Certificate(\"/content/essential-rider-375921-74f005818646.json\")\n",
        "app = firebase_admin.initialize_app(cred)"
      ],
      "metadata": {
        "id": "wPO064X6y4f2"
      },
      "execution_count": 7,
      "outputs": []
    },
    {
      "cell_type": "code",
      "source": [
        "from google.cloud import storage\n",
        "\n",
        "\n",
        "def list_blobs(bucket_name):\n",
        "    \"\"\"Lists all the blobs in the bucket.\"\"\"\n",
        "    # bucket_name = \"your-bucket-name\"\n",
        "\n",
        "    storage_client = storage.Client()\n",
        "\n",
        "    # Note: Client.list_blobs requires at least package version 1.17.0.\n",
        "    blobs = storage_client.list_blobs(bucket_name)\n",
        "\n",
        "    return blobs\n",
        "\n",
        "    # # Note: The call returns a response only when the iterator is consumed.\n",
        "    # for blob in blobs:\n",
        "    #     print(blob.name)\n",
        "\n",
        "def extract_audio_gcs(gcs_uri):\n",
        "    \"\"\"Asynchronously transcribes the audio file specified by the gcs_uri.\"\"\"\n",
        "\n",
        "    client = speech.SpeechClient()\n",
        "\n",
        "    audio = speech.RecognitionAudio(uri=gcs_uri)\n",
        "    config = speech.RecognitionConfig(\n",
        "        encoding=speech.RecognitionConfig.AudioEncoding.LINEAR16,\n",
        "        audio_channel_count=2,\n",
        "        language_code=\"en-US\",\n",
        "    )\n",
        "\n",
        "    operation = client.long_running_recognize(config=config, audio=audio)\n",
        "\n",
        "    print(\"Waiting for operation to complete...\")\n",
        "    response = operation.result(timeout=600)\n",
        "\n",
        "    return response\n",
        "\n",
        "#Analyzes the sentiment of the transcription using TextBlob.\n",
        "def analyze_sentiment(transcription):\n",
        "    \n",
        "    blob = TextBlob(transcription)\n",
        "    sentiment = blob.sentiment\n",
        "    return sentiment\n",
        "import matplotlib.pyplot as plt\n",
        "\n",
        "#Visualizing the sentiments polarities and magnitudes in bar graphs\n",
        "def plot_sentiment(senti):\n",
        "    \"\"\"Plots the sentiment polarities and magnitudes.\"\"\"\n",
        "    \n",
        "    polarities = [s[0] for s in senti]\n",
        "    magnitudes = [s[1] for s in senti]\n",
        "\n",
        "    fig, (ax1, ax2) = plt.subplots(1, 2, figsize=(10, 5))\n",
        "    ax1.hist(polarities, bins=20, color='blue')\n",
        "    ax1.set_title('Sentiment Polarities')\n",
        "    ax1.set_xlabel('Polarity')\n",
        "    ax1.set_ylabel('Count')\n",
        "\n",
        "    ax2.hist(magnitudes, bins=20, color='green')\n",
        "    ax2.set_title('Sentiment Magnitudes')\n",
        "    ax2.set_xlabel('Magnitude')\n",
        "    ax2.set_ylabel('Count')\n",
        "\n",
        "    plt.show()\n",
        "\n",
        "def save_to_db(number,transcript,sentiment,magnitude):\n",
        "    # TODO: save to db\n",
        "\n",
        "    db = firestore.client()    \n",
        "    doc_ref = db.collection(u'Speech-to-text').document()\n",
        "    doc_ref.set({\n",
        "        u'wav_filename': u'Handling Sales Calls - Speaking English Fluently.wav',\n",
        "        u'sentence_number': number,\n",
        "        u'sentence_text': transcript,\n",
        "        u'sentiment': sentiment,\n",
        "        u'magnitude': magnitude,\n",
        "        u'transcription_date': '2023-02-15'\n",
        "    })\n",
        "    print('Document {} created'.format(doc_ref.id))\n",
        "\n",
        "def main():\n",
        "  blobs = list_blobs(BUCKET_NAME)\n",
        "  senti = []\n",
        "#Extract Audio from Each file\n",
        "  for blob in blobs:\n",
        "    gcs_uri = \"gs://\" + BUCKET_NAME + \"/\" + blob.name\n",
        "    print(\"\\nThis is the uri: {}\".format(gcs_uri))\n",
        "\n",
        "    response = extract_audio_gcs(gcs_uri=gcs_uri)\n",
        "    count = 0\n",
        "  for result in response.results:\n",
        "      transcript = result.alternatives[0].transcript\n",
        "      print(\"\\nTranscript: {}\".format(result.alternatives[0].transcript))\n",
        "      print(\"Confidence: {}\".format(result.alternatives[0].confidence))\n",
        "\n",
        "  #Sentiment Analysis performed for the audio transcript\n",
        "      sentiment = analyze_sentiment(transcript)\n",
        "      polarity = sentiment.polarity\n",
        "      magnitude = abs(polarity) * sentiment.subjectivity\n",
        "            \n",
        "      print(\"Sentiment polarity:{}\".format(polarity))\n",
        "      print(\"Sentiment magnitude:{}\".format(magnitude))\n",
        "      \n",
        "      senti.append((polarity, magnitude))\n",
        "      save_to_db(count,transcript, polarity , magnitude)\n",
        "      count +=1\n",
        "  #plotting results from sentiments          \n",
        "  plot_sentiment(senti)\n",
        "        \n",
        "if __name__ ==\"__main__\":\n",
        "  main()"
      ],
      "metadata": {
        "colab": {
          "base_uri": "https://localhost:8080/",
          "height": 2505
        },
        "id": "r4SZD48T0I7N",
        "outputId": "b059cef3-52f2-4330-de0b-95ea3e810b15"
      },
      "execution_count": 10,
      "outputs": [
        {
          "output_type": "stream",
          "name": "stdout",
          "text": [
            "\n",
            "This is the uri: gs://speech_to_text_admn5015/Handling Sales Calls - Speaking English Fluently.wav\n",
            "Waiting for operation to complete...\n",
            "\n",
            "Transcript: welcome to 2 minute English, teaching you English in 2 minutes or less is this lesson we will tell you how to handle sales calls from different Institution\n",
            "Confidence: 0.9406661987304688\n",
            "Sentiment polarity:0.12666666666666668\n",
            "Sentiment magnitude:0.03968888888888889\n",
            "Document suegbBCceBX2x8FmSK4w created\n",
            "\n",
            "Transcript:  hello am I speaking with Jim this is Mike calling on behalf of Signature Bank in 45 years\n",
            "Confidence: 0.8939522504806519\n",
            "Sentiment polarity:0.0\n",
            "Sentiment magnitude:0.0\n",
            "Document Ii4AipTN8GW0znojBcH2 created\n",
            "\n",
            "Transcript:  that's right what's this about a higher interest rate if you open a savings account with Signature Bank\n",
            "Confidence: 0.9529316425323486\n",
            "Sentiment polarity:0.17857142857142858\n",
            "Sentiment magnitude:0.09141156462585033\n",
            "Document mgkFuVYUmQghlBUlBZWH created\n",
            "\n",
            "Transcript:  now I'm found my current status are you sure this is a great opportunity\n",
            "Confidence: 0.9776003956794739\n",
            "Sentiment polarity:0.43333333333333335\n",
            "Sentiment magnitude:0.29450617283950614\n",
            "Document oGYKNC8nnMJC7jcfqW7w created\n",
            "\n",
            "Transcript:  hello man I am calling from Coventry Health Care how can I help you\n",
            "Confidence: 0.9690589308738708\n",
            "Sentiment polarity:0.0\n",
            "Sentiment magnitude:0.0\n",
            "Document SUbafozzEj52ArQeVW7t created\n",
            "\n",
            "Transcript:  great to hear my current insurance\n",
            "Confidence: 0.9630255699157715\n",
            "Sentiment polarity:0.4\n",
            "Sentiment magnitude:0.22999999999999998\n",
            "Document LzMrUSo0jfcgUwaS5BaO created\n",
            "\n",
            "Transcript:  I'm sure yours is a good one but we have medical centers across the country as well\n",
            "Confidence: 0.9784093499183655\n",
            "Sentiment polarity:0.39999999999999997\n",
            "Sentiment magnitude:0.1985185185185185\n",
            "Document R5OLdq8nJFr4ObNKqxRV created\n",
            "\n",
            "Transcript:  I'm really sorry but I have to go I'm already late no problem thanks for your time\n",
            "Confidence: 0.9815934300422668\n",
            "Sentiment polarity:-0.20000000000000004\n",
            "Sentiment magnitude:0.12000000000000002\n",
            "Document fWN4GzJPhYWTh5SSZWlO created\n",
            "\n",
            "Transcript:  am I speaking with Jim Novak yes this is Jim Jim this is Jack from Bank of America I have some good news is that so alright I'm listening\n",
            "Confidence: 0.9286378026008606\n",
            "Sentiment polarity:0.7\n",
            "Sentiment magnitude:0.42000000000000004\n",
            "Document LCsQwTwfvX3Lj02QtIxz created\n",
            "\n",
            "Transcript:  you've been banking with us for several years so you've been granted a credit card for your wife at no additional cost that's great so I'll just have to pay for what I buy right that's good to hear my wife would love a credit card for a self great I'll send someone over so that we can deal with the formalities okay let's just schedule a day\n",
            "Confidence: 0.9468172788619995\n",
            "Sentiment polarity:0.5122448979591836\n",
            "Sentiment magnitude:0.2733715118700541\n",
            "Document vZMguVitFkPeCYYvEBsm created\n",
            "\n",
            "Transcript:  hello hi Nancy this is Mike from AT&T Incorporation\n",
            "Confidence: 0.8945988416671753\n",
            "Sentiment polarity:0.0\n",
            "Sentiment magnitude:0.0\n",
            "Document hKwfdQsuYu4ySMY0uE9w created\n",
            "\n",
            "Transcript:  Nancy using are prepaid connection for a couple of years now right\n",
            "Confidence: 0.9229512810707092\n",
            "Sentiment polarity:0.2857142857142857\n",
            "Sentiment magnitude:0.1530612244897959\n",
            "Document pkdsMCKc5sF3t0kmz0iO created\n",
            "\n",
            "Transcript:  how would you like a post\n",
            "Confidence: 0.970659077167511\n",
            "Sentiment polarity:0.0\n",
            "Sentiment magnitude:0.0\n",
            "Document ZRoKAwVMAa2VjIpoboBM created\n",
            "\n",
            "Transcript:  I would love that what's the catch\n",
            "Confidence: 0.9047012329101562\n",
            "Sentiment polarity:0.5\n",
            "Sentiment magnitude:0.3\n",
            "Document c8W7RP60qYz5i5S5fdgd created\n",
            "\n",
            "Transcript:  there's no cash there will be a monthly rental which you will have to pay like any other postpaid connection\n",
            "Confidence: 0.8832899332046509\n",
            "Sentiment polarity:-0.125\n",
            "Sentiment magnitude:0.046875\n",
            "Document WyfmAbR2VCaUOTm1UPdY created\n",
            "\n",
            "Transcript:  we are offering a higher interest rate if you open a savings account with Signature Bank\n",
            "Confidence: 0.9612854719161987\n",
            "Sentiment polarity:0.125\n",
            "Sentiment magnitude:0.0625\n",
            "Document 1oYoRZ68pTDC8LBOSwFw created\n",
            "\n",
            "Transcript:  my current insurance\n",
            "Confidence: 0.6742935180664062\n",
            "Sentiment polarity:0.0\n",
            "Sentiment magnitude:0.0\n",
            "Document 99hS41i5h64UBKqcximB created\n",
            "\n",
            "Transcript:  we are offering health insurance with better premium to Value customers\n",
            "Confidence: 0.8405575156211853\n",
            "Sentiment polarity:0.5\n",
            "Sentiment magnitude:0.25\n",
            "Document Wh0d0Xv2lCIyvLg5Af7s created\n",
            "\n",
            "Transcript:  I'll send someone over so that we can deal with the formalities\n",
            "Confidence: 0.9445515275001526\n",
            "Sentiment polarity:0.0\n",
            "Sentiment magnitude:0.0\n",
            "Document nj3LIeuZe5UhbpIzQOOv created\n",
            "\n",
            "Transcript: there will be a monthly rental which you will have to pay like any other postpaid connection\n",
            "Confidence: 0.938941240310669\n",
            "Sentiment polarity:-0.125\n",
            "Sentiment magnitude:0.046875\n",
            "Document cW9UegOJD9pHziVmIYcm created\n"
          ]
        },
        {
          "output_type": "display_data",
          "data": {
            "text/plain": [
              "<Figure size 720x360 with 2 Axes>"
            ],
            "image/png": "[encoded data removed]"
          },
          "metadata": {
            "needs_background": "light"
          }
        }
      ]
    },
    {
      "cell_type": "markdown",
      "source": [
        "1. Since the audio file consists of various customer service calls audio clipings, so sentimental analysis cannot determine the change in customer experience over time. \n",
        "\n",
        "2. However, I performed the sentimental analysis on each transcript tuple and appended into a list to gauge the overall performance of the call center\n",
        "\n",
        "3. After ploting the results on the histogram using matplotlib we can see that the most of the conversation depicted a nuetral sentiments from the consumer.\n"
      ],
      "metadata": {
        "id": "_iQ1XHGBx0db"
      }
    }
  ]
}